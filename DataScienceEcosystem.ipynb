{
 "cells": [
  {
   "cell_type": "markdown",
   "id": "807cfc07-c93d-4ac3-9b14-12e8f60fa7d7",
   "metadata": {
    "tags": []
   },
   "source": [
    "# H1:Data Science Tools and Ecosystem"
   ]
  },
  {
   "cell_type": "markdown",
   "id": "907e1f7e-7202-466b-b260-5569402420cf",
   "metadata": {},
   "source": [
    "## In this notebook, Data Science Tools and Ecosystem are summarized."
   ]
  },
  {
   "cell_type": "markdown",
   "id": "e0f6fbe0-0b24-42bc-ac90-246c6128a970",
   "metadata": {},
   "source": [
    "## Some of the popular languages that Data Scientists use are:\n",
    " 1. Python\n",
    " 2. Scala \n",
    " 3. Julia \n",
    " 4. R programming "
   ]
  },
  {
   "cell_type": "markdown",
   "id": "31c22e23-2512-414b-8eb9-208bff9a3981",
   "metadata": {},
   "source": [
    "## Some of the commonly used libraries used by Data Scientists include:\n",
    " 1. Numpy\n",
    " 2. Pandas \n",
    " 3. Keras \n",
    " 4. SciKit-Learn"
   ]
  },
  {
   "cell_type": "markdown",
   "id": "ab2b1c97-673c-45f2-b7de-ca13ea5bb246",
   "metadata": {
    "tags": []
   },
   "source": [
    "| Data Science Tools |\n",
    "| ------------------ |\n",
    "| Tableau |\n",
    "| Jupyter |\n",
    "| Apache Spark |"
   ]
  },
  {
   "cell_type": "markdown",
   "id": "e002171c-112c-4aec-86f5-c41682c2e9f0",
   "metadata": {},
   "source": [
    "### Below are a few examples of evaluating arithmetic expressions in Python\n",
    " 1. print(2 + 3)\n",
    " 2. print(2 + 3 * 4)\n",
    " 3. x = 5\n",
    "    print(x + 3)"
   ]
  },
  {
   "cell_type": "code",
   "execution_count": 1,
   "id": "50c0f8f4-bab3-4b37-bbbd-aaec2c6d728d",
   "metadata": {},
   "outputs": [
    {
     "name": "stdout",
     "output_type": "stream",
     "text": [
      "17\n"
     ]
    }
   ],
   "source": [
    "#this a simple arithmetic expression to mutiply then add integers\n",
    "print((3*4)+5)"
   ]
  },
  {
   "cell_type": "code",
   "execution_count": 2,
   "id": "886fd875",
   "metadata": {},
   "outputs": [
    {
     "name": "stdout",
     "output_type": "stream",
     "text": [
      "hours =  3.3333333333333335\n"
     ]
    }
   ],
   "source": [
    "#This will convert 200 minutes to hours by diving by 60\n",
    "minutes = 200\n",
    "hours = 200/60\n",
    "print (\"hours = \",hours)"
   ]
  },
  {
   "cell_type": "markdown",
   "id": "531648e0",
   "metadata": {},
   "source": [
    "*** Objectives* ***\n",
    " - List of popular datascience languages used\n",
    " - List of commonly used libraries for data science\n",
    " - examples of arithmetic operations in python\n",
    " - popular tools used in data science"
   ]
  },
  {
   "cell_type": "markdown",
   "id": "d3e274be",
   "metadata": {},
   "source": [
    "## Author\n",
    "Saiganesh Thamaraikannan"
   ]
  }
 ],
 "metadata": {
  "kernelspec": {
   "display_name": "Python 3",
   "language": "python",
   "name": "python3"
  },
  "language_info": {
   "codemirror_mode": {
    "name": "ipython",
    "version": 3
   },
   "file_extension": ".py",
   "mimetype": "text/x-python",
   "name": "python",
   "nbconvert_exporter": "python",
   "pygments_lexer": "ipython3",
   "version": "3.10.6"
  }
 },
 "nbformat": 4,
 "nbformat_minor": 5
}
